{
 "cells": [
  {
   "cell_type": "code",
   "execution_count": 16,
   "id": "5cb2fb9c-efff-4cb2-ba49-3ea037d9c3ef",
   "metadata": {},
   "outputs": [],
   "source": [
    "import pandas as pd\n",
    "import os\n",
    "# Dataset de origem\n",
    "DS_ORIGEM = \"./data/dataset.csv\"\n",
    "# Dataset Destino\n",
    "DS_DESTINO = \"./data/dataset_transformed.csv\""
   ]
  },
  {
   "cell_type": "code",
   "execution_count": 14,
   "id": "5bda4ef9-78e9-4690-a33f-325c8f58bbca",
   "metadata": {},
   "outputs": [],
   "source": [
    "def transform_o():\n",
    "    if os.path.exists(DS_DESTINO):\n",
    "        return False\n",
    "    df = pd.read_csv(DS_ORIGEM)\n",
    "\n",
    "    mapping = {1: 0, 2: 1}\n",
    "    columns = ['SMOKING', 'YELLOW_FINGERS', \n",
    "           'ANXIETY', 'PEER_PRESSURE', 'CHRONIC_DISEASE', \n",
    "           'FATIGUE', 'ALLERGY', 'WHEEZING', 'ALCOHOL_CONSUMING', \n",
    "           'COUGHING', 'SHORTNESS_OF_BREATH', 'SWALLOWING_DIFFICULTY', \n",
    "           'CHEST_PAIN']\n",
    "    # Mapeando para 0 e 1\n",
    "    df['GENDER'] = df['GENDER'].map({'M': 0, 'F': 1})\n",
    "    df['LUNG_CANCER'] = df['LUNG_CANCER'].map({'NO': 0, 'YES': 1})\n",
    "\n",
    "    df[columns] = df[columns].apply(lambda x: x.map(mapping))\n",
    "    df.to_csv(DS_DESTINO, index=False)"
   ]
  },
  {
   "cell_type": "code",
   "execution_count": 17,
   "id": "95ad7064-9fa3-4c1b-846f-1a6c29107bb6",
   "metadata": {},
   "outputs": [],
   "source": [
    "transform_o()"
   ]
  }
 ],
 "metadata": {
  "kernelspec": {
   "display_name": "Python 3 (ipykernel)",
   "language": "python",
   "name": "python3"
  },
  "language_info": {
   "codemirror_mode": {
    "name": "ipython",
    "version": 3
   },
   "file_extension": ".py",
   "mimetype": "text/x-python",
   "name": "python",
   "nbconvert_exporter": "python",
   "pygments_lexer": "ipython3",
   "version": "3.11.10"
  }
 },
 "nbformat": 4,
 "nbformat_minor": 5
}
